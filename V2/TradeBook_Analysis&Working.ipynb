{
  "nbformat": 4,
  "nbformat_minor": 0,
  "metadata": {
    "colab": {
      "provenance": []
    },
    "kernelspec": {
      "name": "python3",
      "display_name": "Python 3"
    },
    "language_info": {
      "name": "python"
    }
  },
  "cells": [
    {
      "cell_type": "code",
      "source": [
        "import pandas as pd\n",
        "from datetime import datetime\n",
        "\n",
        "df = pd.read_csv(\"CSI_500_close.csv\")\n",
        "\n",
        "df['Datetime'] = df['Datetime'].apply(lambda x: datetime.strptime(str(x), '%Y%m%d%H%M%S%f'))\n",
        "df['Datetime'] = pd.to_datetime(df['Datetime'])\n",
        "df.set_index('Datetime', inplace=True)\n",
        "df = df.sort_index()"
      ],
      "metadata": {
        "id": "KrJ32gpIq5IT"
      },
      "execution_count": null,
      "outputs": []
    },
    {
      "cell_type": "code",
      "source": [
        "# Functions to calculate Technical indicators for mean reversiona and oversold\n",
        "def calculate_rsi(data, window=14):\n",
        "    close_delta = data.diff()\n",
        "    up = close_delta.clip(lower=0)\n",
        "    down = -1 * close_delta.clip(upper=0)\n",
        "    ema_up = up.ewm(com=window - 1, min_periods=window).mean()\n",
        "    ema_down = down.ewm(com=window - 1, min_periods=window).mean()\n",
        "    rs = ema_up / ema_down\n",
        "    rsi = 100 - (100 / (1 + rs))\n",
        "    return rsi\n",
        "\n",
        "def calculate_bollinger_bands(data, window=20, num_std=2):\n",
        "    rolling_mean = data.rolling(window=window).mean()\n",
        "    rolling_std = data.rolling(window=window).std()\n",
        "    upper_band = rolling_mean + (rolling_std * num_std)\n",
        "    lower_band = rolling_mean - (rolling_std * num_std)\n",
        "    return upper_band, lower_band\n",
        "\n",
        "def calculate_stochastic_oscillator(data, window=14):\n",
        "    data_min = data.rolling(window=window).min()\n",
        "    data_max = data.rolling(window=window).max()\n",
        "    k = 100 * (data - data_min) / (data_max - data_min)\n",
        "    d = k.rolling(window=3).mean()\n",
        "    return k, d\n",
        "\n",
        "def calculate_macd(data, fast_window=12, slow_window=26, signal_window=9):\n",
        "    exp1 = data.ewm(span=fast_window, adjust=False).mean()\n",
        "    exp2 = data.ewm(span=slow_window, adjust=False).mean()\n",
        "    macd = exp1 - exp2\n",
        "    signal = macd.ewm(span=signal_window, adjust=False).mean()\n",
        "    return macd, signal\n"
      ],
      "metadata": {
        "id": "_nR6SPDyOPWb"
      },
      "execution_count": null,
      "outputs": []
    },
    {
      "cell_type": "code",
      "source": [
        "#Implementing technical Indicators\n",
        "rsi_df = calculate_rsi(df)\n",
        "upper_band_df, lower_band_df = calculate_bollinger_bands(df)\n",
        "k_df, d_df = calculate_stochastic_oscillator(df)\n",
        "macd_data , signal_data = calculate_macd(df)"
      ],
      "metadata": {
        "id": "1UFYk9InSU87"
      },
      "execution_count": null,
      "outputs": []
    },
    {
      "cell_type": "code",
      "source": [
        "# Filtering and Ranking of stocks based on Technical Indicators\n",
        "filter_stocks = (rsi_df < 30 ) & (macd_data > signal_data)\n",
        "filter_stocks = filter_stocks.astype(int)\n",
        "filter_stocks['Stock_count'] = filter_stocks.sum(axis=1)\n",
        "k_df_rank = k_df.rank(axis=1, ascending=True)"
      ],
      "metadata": {
        "id": "VxUle0XgS-DT"
      },
      "execution_count": null,
      "outputs": []
    },
    {
      "cell_type": "code",
      "source": [
        "# Backtesting code\n",
        "tradebook = pd.DataFrame(columns=['Datetime', 'Stock', 'Entry Price', 'Exit Price', 'Exit Time'])\n",
        "close_df = df\n",
        "\n",
        "for row in range(0, len(close_df)):\n",
        "    date = close_df.index[row]\n",
        "    time = close_df.index[row].time()\n",
        "\n",
        "    if time == pd.to_datetime('10:00').time():\n",
        "        # Select top 5 ranks from stochastic ranks that are part of filtered stocks each day\n",
        "        selected_stocks = []\n",
        "        for i in k_df_rank.iloc[row].sort_values().index:\n",
        "            if filter_stocks[i][row] == 1:\n",
        "                selected_stocks.append(i)\n",
        "            if len(selected_stocks) == 5:\n",
        "                break\n",
        "\n",
        "        entry_price_l1 = {}\n",
        "        for stock in selected_stocks:\n",
        "            entry_price = close_df.loc[date, stock]\n",
        "            entry_price_l1[stock] = entry_price\n",
        "            tradebook = pd.concat([tradebook, pd.DataFrame({'Datetime': [date], 'Stock': [stock], 'Entry Price': [entry_price],'Exit Price': [0], 'Exit Time': [0] })], ignore_index=True)\n",
        "\n",
        "    elif time > pd.to_datetime('10:30').time() and time < pd.to_datetime('15:00').time():\n",
        "        # exit based on target and stoploss\n",
        "        for stock in selected_stocks:\n",
        "            entry_price = entry_price_l1[stock]\n",
        "            current_price = close_df[stock][row]\n",
        "            target = entry_price * 1.02  # Exit if price is above target\n",
        "            stoploss = entry_price * 0.995  # Exit if price is below stoploss\n",
        "            trade = tradebook.loc[(tradebook['Datetime'] ==  date.replace(hour=10, minute=00)) & (tradebook['Stock'] == stock)].index[0]\n",
        "\n",
        "            if (current_price >= target) & (tradebook['Exit Price'][trade] == 0):\n",
        "                tradebook.loc[trade, 'Exit Price'] = target\n",
        "                tradebook.loc[trade, 'Exit Time'] = time\n",
        "\n",
        "            elif (current_price <= stoploss) & (tradebook['Exit Price'][trade] == 0):\n",
        "                tradebook.loc[trade, 'Exit Price'] = stoploss\n",
        "                tradebook.loc[trade, 'Exit Time'] = time\n",
        "\n",
        "    elif time == pd.to_datetime('15:00').time():\n",
        "        # square off pending positions\n",
        "        for stock in selected_stocks:\n",
        "            entry_price = entry_price_l1[stock]\n",
        "            current_price = close_df[stock][row]\n",
        "            trade = tradebook.loc[(tradebook['Datetime'] ==  date.replace(hour=10, minute=00)) & (tradebook['Stock'] == stock)].index[0]\n",
        "\n",
        "            if tradebook['Exit Price'][trade] == 0:\n",
        "                tradebook.loc[trade, 'Exit Price'] = current_price\n",
        "                tradebook.loc[trade, 'Exit Time'] = time\n",
        "\n",
        "tradebook['PnL'] = (tradebook['Exit Price'] - tradebook['Entry Price'])/tradebook['Entry Price']"
      ],
      "metadata": {
        "id": "fFQvKGX0SLQQ"
      },
      "execution_count": null,
      "outputs": []
    },
    {
      "cell_type": "code",
      "source": [
        "#tradebook.to_csv('Tradebook.csv')"
      ],
      "metadata": {
        "id": "0decNCwHpKqN"
      },
      "execution_count": null,
      "outputs": []
    },
    {
      "cell_type": "code",
      "source": [
        "import pandas as pd\n",
        "#tradebook = pd.read_csv('Tradebook.csv')"
      ],
      "metadata": {
        "id": "HakBm0yJjsrI"
      },
      "execution_count": null,
      "outputs": []
    },
    {
      "cell_type": "code",
      "source": [
        "tradebook['Datetime'] = pd.to_datetime(tradebook['Datetime'])"
      ],
      "metadata": {
        "id": "aKwqlQtTscMP"
      },
      "execution_count": null,
      "outputs": []
    },
    {
      "cell_type": "code",
      "source": [
        "tradebook_insample = tradebook[tradebook['Datetime'] < pd.to_datetime('2022-06-30')]\n",
        "tradebook_outsample = tradebook[tradebook['Datetime'] >= pd.to_datetime('2022-06-30')]"
      ],
      "metadata": {
        "id": "HLS9n0bT_heR"
      },
      "execution_count": null,
      "outputs": []
    },
    {
      "cell_type": "code",
      "source": [
        "tradebook_insample['PnL'].sum()"
      ],
      "metadata": {
        "colab": {
          "base_uri": "https://localhost:8080/"
        },
        "id": "dU1pglnovOXG",
        "outputId": "ebebfe0e-dbef-4a63-fbe8-70cd6cd43ea8"
      },
      "execution_count": null,
      "outputs": [
        {
          "output_type": "execute_result",
          "data": {
            "text/plain": [
              "0.4699220083370964"
            ]
          },
          "metadata": {},
          "execution_count": 10
        }
      ]
    },
    {
      "cell_type": "code",
      "source": [
        "tradebook_outsample['PnL'].sum()"
      ],
      "metadata": {
        "colab": {
          "base_uri": "https://localhost:8080/"
        },
        "id": "d0z5WR_EsiZY",
        "outputId": "ae072c73-72ef-47db-d4cd-7c6ae09fbf70"
      },
      "execution_count": null,
      "outputs": [
        {
          "output_type": "execute_result",
          "data": {
            "text/plain": [
              "0.17428023805921578"
            ]
          },
          "metadata": {},
          "execution_count": 11
        }
      ]
    },
    {
      "cell_type": "code",
      "source": [
        "(tradebook_insample['PnL'] > 0).sum()/len(tradebook_insample['PnL'] > 0) #Hit ratiio"
      ],
      "metadata": {
        "colab": {
          "base_uri": "https://localhost:8080/"
        },
        "id": "VEXB_R8ciF4Z",
        "outputId": "45951cd3-6256-4b11-ffad-748fe800c3c8"
      },
      "execution_count": null,
      "outputs": [
        {
          "output_type": "execute_result",
          "data": {
            "text/plain": [
              "0.375"
            ]
          },
          "metadata": {},
          "execution_count": 12
        }
      ]
    },
    {
      "cell_type": "code",
      "source": [
        "(tradebook_outsample['PnL'] > 0).sum()/len(tradebook_outsample['PnL'] > 0)"
      ],
      "metadata": {
        "id": "J60FMjRBihi5",
        "colab": {
          "base_uri": "https://localhost:8080/"
        },
        "outputId": "591f4142-91c8-428a-b5a5-a3ddbe381a2c"
      },
      "execution_count": null,
      "outputs": [
        {
          "output_type": "execute_result",
          "data": {
            "text/plain": [
              "0.45614035087719296"
            ]
          },
          "metadata": {},
          "execution_count": 13
        }
      ]
    },
    {
      "cell_type": "code",
      "source": [
        "dailypnl_outsample = tradebook_outsample.groupby('Datetime')['PnL'].sum().reset_index()\n",
        "dailypnl_insample = tradebook_insample.groupby('Datetime')['PnL'].sum().reset_index()"
      ],
      "metadata": {
        "id": "RtY909Isv9Im"
      },
      "execution_count": null,
      "outputs": []
    },
    {
      "cell_type": "code",
      "source": [
        "#Eq weighted CSI 500 working\n",
        "df = pd.read_csv(\"CSI_500_close.csv\")\n",
        "df['Datetime'] = df['Datetime'].apply(lambda x: datetime.strptime(str(x), '%Y%m%d%H%M%S%f'))\n",
        "df['Datetime'] = pd.to_datetime(df['Datetime'])\n",
        "df.set_index('Datetime', inplace=True)\n",
        "df = df.sort_index()\n",
        "\n",
        "# Equally weighted adjusting for 0/missing values as well\n",
        "df.replace(0, pd.NA, inplace=True)\n",
        "weights = df.div(df.sum(axis=1), axis=0)\n",
        "equally_weighted_index = (weights * df).sum(axis=1)\n",
        "equally_weighted_index_pct_change = equally_weighted_index.pct_change()"
      ],
      "metadata": {
        "id": "gdjcxiFZpKF6"
      },
      "execution_count": null,
      "outputs": []
    },
    {
      "cell_type": "code",
      "source": [
        "eq_weighted_csi = pd.DataFrame(equally_weighted_index_pct_change)\n",
        "eq_weighted_csi['Date'] = eq_weighted_csi.index.date"
      ],
      "metadata": {
        "id": "I7giwYlsqKOJ"
      },
      "execution_count": null,
      "outputs": []
    },
    {
      "cell_type": "code",
      "source": [
        "eq_weighted_csi = pd.DataFrame(equally_weighted_index_pct_change)\n",
        "eq_weighted_csi['Date'] = eq_weighted_csi.index.date\n",
        "eq_weighted_csi = eq_weighted_csi.groupby('Date')[0].sum().reset_index()\n",
        "eq_weighted_csi = eq_weighted_csi[pd.to_datetime(eq_weighted_csi['Date']) >= pd.to_datetime('2022-04-08')] # adjusting for indicator based missing trade days\n",
        "#eq_weighted_csi"
      ],
      "metadata": {
        "id": "s-nB1VU7sNix"
      },
      "execution_count": null,
      "outputs": []
    },
    {
      "cell_type": "code",
      "source": [
        "dailypnl_insample.set_index('Datetime',inplace = True)\n",
        "dailypnl_outsample.set_index('Datetime',inplace = True)\n",
        "dailypnl_insample.index = dailypnl_insample.index.date\n",
        "dailypnl_outsample.index = dailypnl_outsample.index.date"
      ],
      "metadata": {
        "id": "ZJU3XeLltGu0"
      },
      "execution_count": null,
      "outputs": []
    },
    {
      "cell_type": "code",
      "source": [
        "dailypnl_insample['Index_PnL'] = eq_weighted_csi.set_index('Date')[0]\n",
        "dailypnl_outsample['Index_PnL'] = eq_weighted_csi.set_index('Date')[0]"
      ],
      "metadata": {
        "id": "DgF-ZJigmcMK"
      },
      "execution_count": null,
      "outputs": []
    },
    {
      "cell_type": "code",
      "source": [
        "dailypnl_outsample.sum()"
      ],
      "metadata": {
        "colab": {
          "base_uri": "https://localhost:8080/"
        },
        "id": "7R3VmwmhCNYm",
        "outputId": "4b08fad2-e42d-482a-cd6c-d6e43202982c"
      },
      "execution_count": null,
      "outputs": [
        {
          "output_type": "execute_result",
          "data": {
            "text/plain": [
              "PnL           0.17428\n",
              "Index_PnL    0.002662\n",
              "dtype: object"
            ]
          },
          "metadata": {},
          "execution_count": 20
        }
      ]
    },
    {
      "cell_type": "code",
      "source": [
        "dailypnl_insample.sum()"
      ],
      "metadata": {
        "colab": {
          "base_uri": "https://localhost:8080/"
        },
        "id": "8e0W4QK6Bo9p",
        "outputId": "16854db7-1244-4790-8a61-3a9a814a265f"
      },
      "execution_count": null,
      "outputs": [
        {
          "output_type": "execute_result",
          "data": {
            "text/plain": [
              "PnL          0.469922\n",
              "Index_PnL    0.129044\n",
              "dtype: object"
            ]
          },
          "metadata": {},
          "execution_count": 21
        }
      ]
    },
    {
      "cell_type": "code",
      "source": [
        "import pandas as pd\n",
        "import numpy as np\n",
        "import matplotlib.pyplot as plt\n",
        "\n",
        "pnl_df = dailypnl_insample\n",
        "\n",
        "risk_free_rate = 0.07/200 # daily\n",
        "market_returns = pnl_df['Index_PnL'].mean()\n",
        "asset_returns = pnl_df['PnL']\n",
        "\n",
        "notional = 100000\n",
        "\n",
        "daily_returns = pnl_df['PnL'] * notional # Daily Returns\n",
        "cumulative_returns = daily_returns.cumsum() # Cumulative Returns\n",
        "\n",
        "sharpe_ratio = (np.mean(daily_returns) - risk_free_rate) / np.std(daily_returns) # Calculate Sharpe Ratio\n",
        "treynor_ratio = (pnl_df['PnL'].mean()  - risk_free_rate) / (market_returns) # Calculate Treynor Ratio\n",
        "\n",
        "# Plot the movement of the invested amount\n",
        "plt.plot(pnl_df.index, cumulative_returns + notional,label='Daily Cumulated Returns')\n",
        "plt.plot(pnl_df.index, (1+pnl_df['Index_PnL'].cumsum())*(notional),label='Index Returns')\n",
        "plt.title('Invested Amount Over Time')\n",
        "plt.xlabel('Date')\n",
        "plt.ylabel('Invested Amount')\n",
        "plt.legend()\n",
        "plt.show()"
      ],
      "metadata": {
        "colab": {
          "base_uri": "https://localhost:8080/",
          "height": 472
        },
        "id": "8d9oLvNWoGHo",
        "outputId": "7ec92e3a-f600-4f35-ccc3-60750bee82a3"
      },
      "execution_count": null,
      "outputs": [
        {
          "output_type": "display_data",
          "data": {
            "text/plain": [
              "<Figure size 640x480 with 1 Axes>"
            ],
            "image/png": "[encoded data removed]"
          },
          "metadata": {}
        }
      ]
    },
    {
      "cell_type": "code",
      "source": [
        "# Display the results\n",
        "print(\"Sharpe Ratio:\", sharpe_ratio)\n",
        "print(\"Treynor Ratio:\", treynor_ratio)"
      ],
      "metadata": {
        "colab": {
          "base_uri": "https://localhost:8080/"
        },
        "id": "ixs6197urSqy",
        "outputId": "da44c519-964d-408e-ae87-0a209bed2464"
      },
      "execution_count": null,
      "outputs": [
        {
          "output_type": "stream",
          "name": "stdout",
          "text": [
            "Sharpe Ratio: 0.43390871024537264\n",
            "Treynor Ratio: 3.516805939353762\n"
          ]
        }
      ]
    },
    {
      "cell_type": "code",
      "source": [
        "# Outsample Analysis\n",
        "\n",
        "pnl_df = dailypnl_outsample\n",
        "\n",
        "risk_free_rate = 0.07/200 # daily\n",
        "market_returns = pnl_df['Index_PnL'].mean()\n",
        "asset_returns = pnl_df['PnL']\n",
        "\n",
        "notional = 100000\n",
        "\n",
        "daily_returns = pnl_df['PnL'] * notional # Daily Returns\n",
        "cumulative_returns = daily_returns.cumsum() # Cumulative Returns\n",
        "\n",
        "sharpe_ratio = (np.mean(daily_returns) - risk_free_rate) / np.std(daily_returns) # Calculate Sharpe Ratio\n",
        "treynor_ratio = (pnl_df['PnL'].mean()  - risk_free_rate) / (market_returns) # Calculate Treynor Ratio\n",
        "\n",
        "# Plot the movement of the invested amount\n",
        "plt.plot(pnl_df.index, cumulative_returns + notional,label='Daily Cumulated Returns')\n",
        "plt.plot(pnl_df.index, (1+pnl_df['Index_PnL'].cumsum())*(notional),label='Index Returns')\n",
        "plt.title('Invested Amount Over Time')\n",
        "plt.xlabel('Date')\n",
        "plt.ylabel('Invested Amount')\n",
        "plt.legend()\n",
        "plt.show()"
      ],
      "metadata": {
        "colab": {
          "base_uri": "https://localhost:8080/",
          "height": 472
        },
        "id": "UKCRmqj5rwnt",
        "outputId": "311c9260-49d2-4ef3-8a78-00424471f7a8"
      },
      "execution_count": null,
      "outputs": [
        {
          "output_type": "display_data",
          "data": {
            "text/plain": [
              "<Figure size 640x480 with 1 Axes>"
            ],
            "image/png": "[encoded data removed]"
          },
          "metadata": {}
        }
      ]
    },
    {
      "cell_type": "code",
      "source": [
        "print(\"Sharpe Ratio:\", sharpe_ratio)\n",
        "print(\"Treynor Ratio:\", treynor_ratio)"
      ],
      "metadata": {
        "colab": {
          "base_uri": "https://localhost:8080/"
        },
        "id": "z1_mqfnduaxY",
        "outputId": "2c7aec99-05c3-409f-d1c5-23c8064c57e0"
      },
      "execution_count": null,
      "outputs": [
        {
          "output_type": "stream",
          "name": "stdout",
          "text": [
            "Sharpe Ratio: 0.41456592309675505\n",
            "Treynor Ratio: 63.09530110103978\n"
          ]
        }
      ]
    },
    {
      "cell_type": "code",
      "source": [
        "#Drawdown\n",
        "cumulative_pnl = dailypnl_insample['PnL'].cumsum()\n",
        "max_drawdown = (cumulative_pnl - cumulative_pnl.expanding().max()).min()\n",
        "max_drawdown"
      ],
      "metadata": {
        "colab": {
          "base_uri": "https://localhost:8080/"
        },
        "id": "vvz_dbLeoGBz",
        "outputId": "09a0c1d1-800f-45d7-fee8-0c3611fe52d3"
      },
      "execution_count": null,
      "outputs": [
        {
          "output_type": "execute_result",
          "data": {
            "text/plain": [
              "-0.04215690551772419"
            ]
          },
          "metadata": {},
          "execution_count": 26
        }
      ]
    },
    {
      "cell_type": "code",
      "source": [
        "#Drawdown\n",
        "cumulative_pnl = dailypnl_outsample['PnL'].cumsum()\n",
        "max_drawdown = (cumulative_pnl - cumulative_pnl.expanding().max()).min()\n",
        "max_drawdown"
      ],
      "metadata": {
        "colab": {
          "base_uri": "https://localhost:8080/"
        },
        "id": "dESHQNKwwUbA",
        "outputId": "add8e01d-4fab-4c33-b38d-2aa8f81a98e4"
      },
      "execution_count": null,
      "outputs": [
        {
          "output_type": "execute_result",
          "data": {
            "text/plain": [
              "-0.04082241630276587"
            ]
          },
          "metadata": {},
          "execution_count": 27
        }
      ]
    },
    {
      "cell_type": "code",
      "source": [
        "# Brokerage\n",
        "len(tradebook_insample)"
      ],
      "metadata": {
        "colab": {
          "base_uri": "https://localhost:8080/"
        },
        "id": "Sc5cf7189Gfe",
        "outputId": "d9182d6d-2365-4f85-b441-67c097dffb14"
      },
      "execution_count": null,
      "outputs": [
        {
          "output_type": "execute_result",
          "data": {
            "text/plain": [
              "128"
            ]
          },
          "metadata": {},
          "execution_count": 28
        }
      ]
    },
    {
      "cell_type": "code",
      "source": [
        "len(tradebook_outsample)"
      ],
      "metadata": {
        "colab": {
          "base_uri": "https://localhost:8080/"
        },
        "id": "SL4hvb-mzBpF",
        "outputId": "401637b4-2b1d-4ab2-f613-c36bc671e567"
      },
      "execution_count": null,
      "outputs": [
        {
          "output_type": "execute_result",
          "data": {
            "text/plain": [
              "57"
            ]
          },
          "metadata": {},
          "execution_count": 29
        }
      ]
    },
    {
      "cell_type": "code",
      "source": [
        "128*0.0005"
      ],
      "metadata": {
        "colab": {
          "base_uri": "https://localhost:8080/"
        },
        "id": "n0N06H-i91vL",
        "outputId": "5250038a-2172-4d45-ef8f-06f838a942c4"
      },
      "execution_count": null,
      "outputs": [
        {
          "output_type": "execute_result",
          "data": {
            "text/plain": [
              "0.064"
            ]
          },
          "metadata": {},
          "execution_count": 30
        }
      ]
    },
    {
      "cell_type": "code",
      "source": [
        "57*0.0005"
      ],
      "metadata": {
        "colab": {
          "base_uri": "https://localhost:8080/"
        },
        "id": "0-yzBUXDzFGd",
        "outputId": "feb5447f-8bdd-460c-b2b7-960e82f1a7d3"
      },
      "execution_count": null,
      "outputs": [
        {
          "output_type": "execute_result",
          "data": {
            "text/plain": [
              "0.0285"
            ]
          },
          "metadata": {},
          "execution_count": 31
        }
      ]
    },
    {
      "cell_type": "code",
      "source": [
        "#Slippage\n",
        "tradebook_outsample['Entry Price Slipped'] = tradebook_outsample['Entry Price']*1.001\n",
        "tradebook_insample['Entry Price Slipped'] = tradebook_insample['Entry Price']*1.001"
      ],
      "metadata": {
        "colab": {
          "base_uri": "https://localhost:8080/"
        },
        "id": "XRueE1Ip96zH",
        "outputId": "3022da7d-b965-46ad-9fcd-31dd47c60a69"
      },
      "execution_count": null,
      "outputs": [
        {
          "output_type": "stream",
          "name": "stderr",
          "text": [
            "<ipython-input-32-32e7c881b0b8>:2: SettingWithCopyWarning: \n",
            "A value is trying to be set on a copy of a slice from a DataFrame.\n",
            "Try using .loc[row_indexer,col_indexer] = value instead\n",
            "\n",
            "See the caveats in the documentation: https://pandas.pydata.org/pandas-docs/stable/user_guide/indexing.html#returning-a-view-versus-a-copy\n",
            "  tradebook_outsample['Entry Price Slipped'] = tradebook_outsample['Entry Price']*1.001\n",
            "<ipython-input-32-32e7c881b0b8>:3: SettingWithCopyWarning: \n",
            "A value is trying to be set on a copy of a slice from a DataFrame.\n",
            "Try using .loc[row_indexer,col_indexer] = value instead\n",
            "\n",
            "See the caveats in the documentation: https://pandas.pydata.org/pandas-docs/stable/user_guide/indexing.html#returning-a-view-versus-a-copy\n",
            "  tradebook_insample['Entry Price Slipped'] = tradebook_insample['Entry Price']*1.001\n"
          ]
        }
      ]
    },
    {
      "cell_type": "code",
      "source": [
        "#Slippage\n",
        "tradebook_outsample['Slipped_PnL'] = (tradebook_outsample['Exit Price'] - tradebook_outsample['Entry Price Slipped'])/tradebook_outsample['Entry Price Slipped']\n",
        "tradebook_insample['Slipped_PnL'] = (tradebook_insample['Exit Price'] - tradebook_insample['Entry Price Slipped'])/tradebook_insample['Entry Price Slipped']"
      ],
      "metadata": {
        "colab": {
          "base_uri": "https://localhost:8080/"
        },
        "id": "2VHrDlZ_-UXI",
        "outputId": "4a63964b-5f06-4816-f8c5-9deee35bd89a"
      },
      "execution_count": null,
      "outputs": [
        {
          "output_type": "stream",
          "name": "stderr",
          "text": [
            "<ipython-input-33-bf1d923814e0>:2: SettingWithCopyWarning: \n",
            "A value is trying to be set on a copy of a slice from a DataFrame.\n",
            "Try using .loc[row_indexer,col_indexer] = value instead\n",
            "\n",
            "See the caveats in the documentation: https://pandas.pydata.org/pandas-docs/stable/user_guide/indexing.html#returning-a-view-versus-a-copy\n",
            "  tradebook_outsample['Slipped_PnL'] = (tradebook_outsample['Exit Price'] - tradebook_outsample['Entry Price Slipped'])/tradebook_outsample['Entry Price Slipped']\n",
            "<ipython-input-33-bf1d923814e0>:3: SettingWithCopyWarning: \n",
            "A value is trying to be set on a copy of a slice from a DataFrame.\n",
            "Try using .loc[row_indexer,col_indexer] = value instead\n",
            "\n",
            "See the caveats in the documentation: https://pandas.pydata.org/pandas-docs/stable/user_guide/indexing.html#returning-a-view-versus-a-copy\n",
            "  tradebook_insample['Slipped_PnL'] = (tradebook_insample['Exit Price'] - tradebook_insample['Entry Price Slipped'])/tradebook_insample['Entry Price Slipped']\n"
          ]
        }
      ]
    },
    {
      "cell_type": "code",
      "source": [
        "tradebook_outsample['Slipped_PnL'].sum()"
      ],
      "metadata": {
        "colab": {
          "base_uri": "https://localhost:8080/"
        },
        "id": "yzzi4WmQ_LJQ",
        "outputId": "d9454e0d-157f-4ff5-a1f1-a79784c2e672"
      },
      "execution_count": null,
      "outputs": [
        {
          "output_type": "execute_result",
          "data": {
            "text/plain": [
              "0.11716307498423824"
            ]
          },
          "metadata": {},
          "execution_count": 34
        }
      ]
    },
    {
      "cell_type": "code",
      "source": [
        "tradebook_insample['Slipped_PnL'].sum()"
      ],
      "metadata": {
        "colab": {
          "base_uri": "https://localhost:8080/"
        },
        "id": "4y5FHWEhDQg6",
        "outputId": "35b0033c-c748-4e47-a749-46eb1b225025"
      },
      "execution_count": null,
      "outputs": [
        {
          "output_type": "execute_result",
          "data": {
            "text/plain": [
              "0.34957243590120857"
            ]
          },
          "metadata": {},
          "execution_count": 35
        }
      ]
    }
  ]
}